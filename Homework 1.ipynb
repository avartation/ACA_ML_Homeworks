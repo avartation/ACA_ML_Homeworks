{
 "cells": [
  {
   "cell_type": "code",
   "execution_count": 152,
   "metadata": {},
   "outputs": [
    {
     "name": "stdout",
     "output_type": "stream",
     "text": [
      "({},)\n",
      "24\n",
      "({4: 24},)\n",
      "2\n",
      "({4: 24, 2: 2},)\n",
      "6227020800\n",
      "({4: 24, 2: 2, 13: 6227020800},)\n"
     ]
    }
   ],
   "source": [
    "\"\"\"\n",
    " 1\n",
    "\"\"\"\n",
    "\n",
    "def factorial(num: int, fact_dict={}):\n",
    "    if num in fact_dict:\n",
    "        return fact_dict[num]\n",
    "    res = 1\n",
    "    for i in range(2, num+1):\n",
    "        res *= i\n",
    "    fact_dict[num] = res\n",
    "    return res\n",
    "\n",
    "\n",
    "\"\"\" Testing \"\"\"\n",
    "\n",
    "print(factorial.__defaults__)\n",
    "print(factorial(4))\n",
    "print(factorial.__defaults__)\n",
    "print(factorial(2))\n",
    "print(factorial.__defaults__)\n",
    "print(factorial(13))\n",
    "print(factorial.__defaults__)\n"
   ]
  },
  {
   "cell_type": "code",
   "execution_count": 156,
   "metadata": {},
   "outputs": [
    {
     "name": "stdout",
     "output_type": "stream",
     "text": [
      "{'feel_good': 'Endy feels good!', 'get_name': 'Endy'}\n"
     ]
    }
   ],
   "source": [
    "\"\"\"\n",
    " 2\n",
    "\"\"\"\n",
    "\n",
    "\"\"\" For testing our func \"\"\"\n",
    "class SomeClass:\n",
    "    def __init__(self, name):\n",
    "        self.name = name\n",
    "    def get_name(self):\n",
    "        return self.name\n",
    "    def feel_good(self):\n",
    "        return self.name + \" feels good!\"\n",
    "\n",
    "    \n",
    "def get_func_res_dict(obj):\n",
    "    res = {}\n",
    "    for attribute in dir(obj):\n",
    "        if attribute[:2] != \"__\" and callable(getattr(obj, attribute)):\n",
    "            res[attribute] = getattr(obj, attribute)()\n",
    "    return res\n",
    "\n",
    "\n",
    "\"\"\" Testing \"\"\"\n",
    "\n",
    "x = SomeClass('Endy')\n",
    "print(get_func_res_dict(x))\n"
   ]
  },
  {
   "cell_type": "code",
   "execution_count": 154,
   "metadata": {},
   "outputs": [
    {
     "name": "stdout",
     "output_type": "stream",
     "text": [
      "m * n\n",
      "[0.5, 1.0, 1.5]\n",
      "[2.0, 2.5, 3.0]\n",
      "[3.5, 4.0, 4.5]\n",
      "\n",
      "0 degree rotation of m\n",
      "[1, 2, 3]\n",
      "[4, 5, 6]\n",
      "[7, 8, 9]\n",
      "\n",
      "90 degree rotation of m\n",
      "[7, 4, 1]\n",
      "[8, 5, 2]\n",
      "[9, 6, 3]\n",
      "\n",
      "180 degree rotation of m\n",
      "[9, 8, 7]\n",
      "[6, 5, 4]\n",
      "[3, 2, 1]\n",
      "\n",
      "270 degree rotation of m\n",
      "[3, 6, 9]\n",
      "[2, 5, 8]\n",
      "[1, 4, 7]\n",
      "\n",
      "360 degree rotation of m\n",
      "[1, 2, 3]\n",
      "[4, 5, 6]\n",
      "[7, 8, 9]\n"
     ]
    }
   ],
   "source": [
    "\"\"\"\n",
    " 3\n",
    "\n",
    " I implemented the problem as\n",
    "I got it, maybe something\n",
    "is not so, as you described\n",
    "\n",
    " Btw, there were many \n",
    "\"referance problems\", and \n",
    "I learned a lot form this\n",
    "\"\"\"\n",
    "\n",
    "class Matrix:\n",
    "    def __init__(self, matrix):\n",
    "        assert len(matrix) == len(matrix[0]), 'Invalid matrix value'\n",
    "        self.matrix = matrix\n",
    "        self.rotations = {}\n",
    "        self.rotations[0] = self.matrix\n",
    "    \n",
    "    def rotate(self, degree):\n",
    "        degree %= 360\n",
    "        assert degree % 90 == 0, 'Invalid degree value'\n",
    "        \n",
    "        if degree in self.rotations:\n",
    "            return self.rotations[degree]\n",
    "        \n",
    "        rotated = self.matrix\n",
    "        for _ in range(degree // 90):\n",
    "            rotated = list(zip(*reversed(rotated)))\n",
    "        rotated = list(list(i) for i in rotated)\n",
    "        \n",
    "        self.rotations[degree] = rotated\n",
    "        return rotated\n",
    "    \n",
    "    def __mul__(self, other):\n",
    "        assert other.__class__ == Matrix, 'Invalid second argument'\n",
    "        assert len(self.matrix) == len(other.matrix), 'Can\\'t multiply differently sized matrixes'\n",
    "        \n",
    "        \"\"\" this if for full copying \"\"\"\n",
    "        m = list(self.matrix[i].copy() for i in range(len(self.matrix)))\n",
    "        \n",
    "        for i in range(len(m)):\n",
    "            for j in range(len(m)):\n",
    "                m[i][j] *= other.matrix[i][j]\n",
    "        return Matrix(m)\n",
    "\n",
    "\n",
    "\"\"\" Testing \"\"\"\n",
    "\n",
    "m = Matrix([[1, 2, 3], [4, 5, 6], [7, 8, 9]])\n",
    "n = Matrix([[0.5, 0.5, 0.5], [0.5, 0.5, 0.5], [0.5, 0.5, 0.5]])\n",
    "\n",
    "c = m*n\n",
    "print('m * n', *c.matrix, sep='\\n', end='\\n\\n')\n",
    "\n",
    "print('0 degree rotation of m', *m.rotate(0), sep='\\n', end='\\n\\n')\n",
    "print('90 degree rotation of m', *m.rotate(90), sep='\\n', end='\\n\\n')\n",
    "print('180 degree rotation of m', *m.rotate(180), sep='\\n', end='\\n\\n')\n",
    "print('270 degree rotation of m', *m.rotate(270), sep='\\n', end='\\n\\n')\n",
    "print('360 degree rotation of m', *m.rotate(360), sep='\\n')\n"
   ]
  },
  {
   "cell_type": "code",
   "execution_count": 155,
   "metadata": {},
   "outputs": [
    {
     "name": "stdout",
     "output_type": "stream",
     "text": [
      "name: Sun,\n",
      "distance from Earth: 149.6 million km\n",
      "\n",
      "\n",
      "True\n"
     ]
    }
   ],
   "source": [
    "\"\"\"\n",
    " 4\n",
    "\"\"\"\n",
    "\n",
    "class Sun:\n",
    "    _instance = None\n",
    "    \n",
    "    def __new__(cls):\n",
    "        if not cls._instance:\n",
    "            cls._instance = super(Sun, cls).__new__(cls)\n",
    "        return cls._instance\n",
    "    \n",
    "    def __init__(self):\n",
    "        self.name = 'Sun'\n",
    "        self.dist_from_earth = '149.6 million km'\n",
    "\n",
    "\n",
    "\"\"\" Testing \"\"\"\n",
    "\n",
    "x = Singleton()\n",
    "y = Singleton()\n",
    "\n",
    "print('name: {},\\ndistance from Earth: {}\\n\\n'.format(x.name, y.dist_from_earth))\n",
    "\n",
    "print(x is y)\n"
   ]
  }
 ],
 "metadata": {
  "kernelspec": {
   "display_name": "Python 3",
   "language": "python",
   "name": "python3"
  },
  "language_info": {
   "codemirror_mode": {
    "name": "ipython",
    "version": 3
   },
   "file_extension": ".py",
   "mimetype": "text/x-python",
   "name": "python",
   "nbconvert_exporter": "python",
   "pygments_lexer": "ipython3",
   "version": "3.6.4"
  }
 },
 "nbformat": 4,
 "nbformat_minor": 2
}
