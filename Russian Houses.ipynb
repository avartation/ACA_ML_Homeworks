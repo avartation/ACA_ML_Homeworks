{
 "cells": [
  {
   "cell_type": "markdown",
   "metadata": {},
   "source": [
    "# Describtion of the model\n",
    "\n",
    "Data cleaning is represented in the comments.\n",
    "\n",
    "Firstly, I train a linear_model on the scaled data and adding the predicted result to the original data - give it to XGB !"
   ]
  },
  {
   "cell_type": "code",
   "execution_count": 1,
   "metadata": {},
   "outputs": [],
   "source": [
    "import numpy as np\n",
    "import pandas as pd\n",
    "from xgboost import XGBRegressor\n",
    "from sklearn.metrics import mean_squared_error"
   ]
  },
  {
   "cell_type": "code",
   "execution_count": 20,
   "metadata": {},
   "outputs": [],
   "source": [
    "train_data_pd = pd.read_csv('C:/Users/artur/Downloads/train.csv')\n",
    "test_data_pd = pd.read_csv('C:/Users/artur/Downloads/test.csv')"
   ]
  },
  {
   "cell_type": "code",
   "execution_count": 21,
   "metadata": {},
   "outputs": [
    {
     "data": {
      "text/plain": [
       "(38133, 289)"
      ]
     },
     "execution_count": 21,
     "metadata": {},
     "output_type": "execute_result"
    }
   ],
   "source": [
    "train_data = train_data_pd.values\n",
    "test_data = test_data_pd.values\n",
    "\n",
    "target = train_data[:, -1]\n",
    "train_data = train_data[:, :-1]\n",
    "\n",
    "data = np.row_stack((train_data, test_data))\n",
    "\n",
    "\n",
    "############################\n",
    "#   Forming year feature   #\n",
    "############################\n",
    "years = np.array([int(year[:4]) for year in data[:, 1]])\n",
    "\n",
    "data = data[:, 2:-1]\n",
    "data = np.column_stack((years, data))\n",
    "\n",
    "data.shape"
   ]
  },
  {
   "cell_type": "code",
   "execution_count": 22,
   "metadata": {},
   "outputs": [
    {
     "name": "stdout",
     "output_type": "stream",
     "text": [
      "(38133, 289)\n",
      "(38133, 236)\n"
     ]
    }
   ],
   "source": [
    "#######################################\n",
    "#   Deleting NaN-containing cloumns   #\n",
    "#######################################\n",
    "\n",
    "print(data.shape)\n",
    "\n",
    "data[data != data] = \"contains nan\"\n",
    "delete_column = []\n",
    "for j in range(data.shape[1]):\n",
    "    if \"contains nan\" in data[:, j]:\n",
    "        delete_column.append(j)\n",
    "\n",
    "data = np.delete(data, delete_column, 1)\n",
    "\n",
    "print(data.shape)"
   ]
  },
  {
   "cell_type": "code",
   "execution_count": 23,
   "metadata": {},
   "outputs": [
    {
     "name": "stdout",
     "output_type": "stream",
     "text": [
      "data.shape = (38133, 236)\n",
      "\n",
      "index: 2 added columns: 146\n",
      "index: 16 added columns: 2\n",
      "index: 20 added columns: 2\n",
      "index: 21 added columns: 2\n",
      "index: 22 added columns: 2\n",
      "index: 23 added columns: 2\n",
      "index: 24 added columns: 2\n",
      "index: 25 added columns: 2\n",
      "index: 26 added columns: 2\n",
      "index: 27 added columns: 2\n",
      "index: 72 added columns: 2\n",
      "index: 80 added columns: 2\n",
      "index: 84 added columns: 2\n",
      "index: 118 added columns: 5\n",
      "\n",
      "\n",
      "data.shape = (38133, 397)\n"
     ]
    }
   ],
   "source": [
    "###################################\n",
    "#   Using \"pd.get_dummies\" here   #\n",
    "###################################\n",
    "\n",
    "print('data.shape = {}'.format(data.shape), end='\\n\\n')\n",
    "\n",
    "will_be_deleted = []\n",
    "transformed_data = np.zeros((data.shape[0]))\n",
    "for i, val in enumerate(data[0]):\n",
    "    if type(val) == str:\n",
    "        hold = pd.get_dummies(data[:, i]).values\n",
    "        transformed_data = np.column_stack((transformed_data, hold))\n",
    "        will_be_deleted.append(i)\n",
    "        print('index:', i, 'added columns:',  hold.shape[1])\n",
    "\n",
    "transformed_data = transformed_data[:, 1:]\n",
    "data = np.delete(data, will_be_deleted, 1)\n",
    "data = np.column_stack((data, transformed_data))\n",
    "\n",
    "print('\\n')\n",
    "print('data.shape = {}'.format(data.shape))\n"
   ]
  },
  {
   "cell_type": "code",
   "execution_count": 26,
   "metadata": {},
   "outputs": [
    {
     "name": "stdout",
     "output_type": "stream",
     "text": [
      "{'alpha': 100}\n",
      "(30471, 397)\n",
      "(30471, 398)\n",
      "\n",
      "\n",
      "(0, 5850000)\n",
      "(1, 6000000)\n",
      "(2, 5700000)\n",
      "(3, 13100000)\n",
      "(4, 16331452)\n",
      "(5, 9100000)\n",
      "(6, 5500000)\n",
      "(7, 2000000)\n",
      "(8, 5300000)\n",
      "(9, 2000000)\n",
      "\n",
      "(0, 5046378.756772512)\n",
      "(1, 5609713.043649767)\n",
      "(2, 5236538.004253147)\n",
      "(3, 6499662.985637389)\n",
      "(4, 10668185.800968759)\n",
      "(5, 5247386.665156876)\n",
      "(6, 8092978.745479906)\n",
      "(7, 6008246.338668449)\n",
      "(8, 5975691.070100578)\n",
      "(9, 7690761.600411292)\n"
     ]
    }
   ],
   "source": [
    "from sklearn.model_selection import GridSearchCV\n",
    "from sklearn.linear_model import Ridge\n",
    "\n",
    "ridge = Ridge()\n",
    "parameters = {'alpha': [0.1, 2, 3, 5, 12, 30, 100]}\n",
    "\n",
    "linear_model = GridSearchCV(ridge, parameters)\n",
    "\n",
    "           ########################\n",
    "           #   Scaling features   #\n",
    "##############################################\n",
    "mean_vec = np.array([np.mean(data[:, j]) for j in range(data.shape[1])])\n",
    "std_vec = np.array([np.std(data[:, j]) for j in range(data.shape[1])])\n",
    "\n",
    "data_scaled = (data - mean_vec) / (std_vec+1e-10)\n",
    "##############################################\n",
    "\n",
    "\n",
    "train_data = data[:target.shape[0]]\n",
    "test_data = data[target.shape[0]:]\n",
    "\n",
    "train_data_scaled = data_scaled[:target.shape[0]]\n",
    "test_data_scaled = data_scaled[target.shape[0]:]\n",
    "\n",
    "linear_model.fit(X=train_data_scaled, y=target)\n",
    "\n",
    "new_column_train = linear_model.predict(X=train_data_scaled)\n",
    "new_column_test = linear_model.predict(X=test_data_scaled)\n",
    "\n",
    "train_data = np.column_stack((train_data, new_column_train))\n",
    "test_data = np.column_stack((test_data, new_column_test))"
   ]
  },
  {
   "cell_type": "code",
   "execution_count": 27,
   "metadata": {},
   "outputs": [
    {
     "data": {
      "text/plain": [
       "XGBRegressor(base_score=0.5, booster='gbtree', colsample_bylevel=1,\n",
       "       colsample_bytree=1, gamma=0, learning_rate=0.1, max_delta_step=0,\n",
       "       max_depth=5, min_child_weight=1, missing=None, n_estimators=100,\n",
       "       n_jobs=1, nthread=None, objective='reg:linear', random_state=0,\n",
       "       reg_alpha=0, reg_lambda=1, scale_pos_weight=1, seed=None,\n",
       "       silent=True, subsample=1)"
      ]
     },
     "execution_count": 27,
     "metadata": {},
     "output_type": "execute_result"
    }
   ],
   "source": [
    "model = XGBRegressor(max_depth=5)\n",
    "model.fit(X=train_data, y=target)"
   ]
  },
  {
   "cell_type": "code",
   "execution_count": 28,
   "metadata": {},
   "outputs": [
    {
     "data": {
      "text/plain": [
       "0.4545441953672685"
      ]
     },
     "execution_count": 28,
     "metadata": {},
     "output_type": "execute_result"
    }
   ],
   "source": [
    "def mean_squared_log_error(real, predicted):\n",
    "    s=0.0\n",
    "    for i in range(len(predicted)):\n",
    "        if predicted[i] < 0 or real[i] < 0:\n",
    "            continue\n",
    "        p = np.log(predicted[i]+1)\n",
    "        r = np.log(real[i]+1)\n",
    "        s = s + (p - r)**2\n",
    "    return (s/len(predicted))**0.5\n",
    "\n",
    "mean_squared_log_error(target, model.predict(train_data))"
   ]
  },
  {
   "cell_type": "code",
   "execution_count": null,
   "metadata": {},
   "outputs": [],
   "source": [
    "test_predicted = model.predict(test_data)\n",
    "\n",
    "result = pd.read_csv('C:/Users/artur/Downloads/sample_submission.csv')\n",
    "result['price_doc'] = test_predicted\n",
    "\n",
    "result.to_csv('submission.csv', index=False)"
   ]
  },
  {
   "cell_type": "markdown",
   "metadata": {},
   "source": [
    "## I sent the file to kaggle and got 0.35 score\n",
    "### (Winning score was 0.30)"
   ]
  }
 ],
 "metadata": {
  "kernelspec": {
   "display_name": "Python 3",
   "language": "python",
   "name": "python3"
  },
  "language_info": {
   "codemirror_mode": {
    "name": "ipython",
    "version": 3
   },
   "file_extension": ".py",
   "mimetype": "text/x-python",
   "name": "python",
   "nbconvert_exporter": "python",
   "pygments_lexer": "ipython3",
   "version": "3.6.4"
  }
 },
 "nbformat": 4,
 "nbformat_minor": 2
}
