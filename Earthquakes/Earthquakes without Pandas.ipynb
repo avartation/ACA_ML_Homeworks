{
 "cells": [
  {
   "cell_type": "code",
   "execution_count": 1,
   "metadata": {},
   "outputs": [],
   "source": [
    "import numpy as np\n",
    "from sklearn.preprocessing import LabelEncoder\n",
    "from sklearn.metrics import mean_squared_error\n",
    "from sklearn.model_selection import GridSearchCV\n",
    "from xgboost import XGBRegressor"
   ]
  },
  {
   "cell_type": "code",
   "execution_count": 2,
   "metadata": {},
   "outputs": [
    {
     "name": "stdout",
     "output_type": "stream",
     "text": [
      "Original\n",
      "data_examples shape: (23412, 21)\n",
      "data_attributes shape: (21,)\n",
      "\n",
      "(0, 'Date')\n",
      "(1, 'Time')\n",
      "(2, 'Latitude')\n",
      "(3, 'Longitude')\n",
      "(4, 'Type')\n",
      "(5, 'Depth')\n",
      "(6, 'Depth Error')\n",
      "(7, 'Depth Seismic Stations')\n",
      "(8, 'Magnitude')\n",
      "(9, 'Magnitude Type')\n",
      "(10, 'Magnitude Error')\n",
      "(11, 'Magnitude Seismic Stations')\n",
      "(12, 'Azimuthal Gap')\n",
      "(13, 'Horizontal Distance')\n",
      "(14, 'Horizontal Error')\n",
      "(15, 'Root Mean Square')\n",
      "(16, 'ID')\n",
      "(17, 'Source')\n",
      "(18, 'Location Source')\n",
      "(19, 'Magnitude Source')\n",
      "(20, 'Status')\n",
      "\n",
      "\n",
      "Cleaned\n",
      "data_examples shape: (23409, 13)\n",
      "data_attributes shape: (13,)\n",
      "\n",
      "(0, 'Years')\n",
      "(1, 'Sin_latitude')\n",
      "(2, 'Sin_longitude')\n",
      "(3, 'Cos_latitude')\n",
      "(4, 'Cos_longitude')\n",
      "(5, 'Type')\n",
      "(6, 'Depth')\n",
      "(7, 'Magnitude Type')\n",
      "(8, 'Root Mean Square')\n",
      "(9, 'Source')\n",
      "(10, 'Location Source')\n",
      "(11, 'Magnitude Source')\n",
      "(12, 'Status')\n"
     ]
    }
   ],
   "source": [
    "###########################################\n",
    "#             Preparing Data              #\n",
    "###########################################\n",
    "\n",
    "file = open('C:/Users/artur/Downloads/database.csv')\n",
    "original_file = file.read()\n",
    "\n",
    "rowsplit_data = original_file.splitlines()\n",
    "data_examples = np.array([rows.split(',') for rows in rowsplit_data])\n",
    "data_attributes, data_examples = data_examples[0], data_examples[1:]\n",
    "\n",
    "print('Original')\n",
    "print('data_examples shape:', data_examples.shape)\n",
    "print('data_attributes shape:', data_attributes.shape, end='\\n\\n')\n",
    "print(*enumerate(data_attributes), sep='\\n', end='\\n\\n\\n')\n",
    "\n",
    "\n",
    "##################################\n",
    "#     Forming 'year' feature     #\n",
    "##################################\n",
    "\n",
    "def isdigit(s):\n",
    "    try: \n",
    "        int(s)\n",
    "        return True\n",
    "    except ValueError:\n",
    "        return False\n",
    "\n",
    "years = np.array([year[6:] for year in data_examples[:, 0]])\n",
    "indicis = []\n",
    "for i, year in enumerate(years):\n",
    "    if not isdigit(year):\n",
    "        indicis.append(i)\n",
    "\n",
    "data_examples = np.delete(data_examples, indicis, 0)\n",
    "years = np.delete(years, indicis, 0)\n",
    "\n",
    "years = np.array([int(year) for year in years])\n",
    "\n",
    "\n",
    "##################################\n",
    "#         Clearing Data          #\n",
    "##################################\n",
    "\n",
    "unneeded_info = [0, 1, 2, 3, 6, 7, 8, 10, 11, 12, 13, 14, 16]\n",
    "\n",
    "target = np.array([float(d) for d in data_examples[:, 8]])\n",
    "\n",
    "latitude = np.array([float(lat) for lat in data_examples[:, 2]])\n",
    "longitude = np.array([float(lon) for lon in data_examples[:, 3]])\n",
    "\n",
    "sin_latitude = np.sin(latitude)\n",
    "sin_longitude = np.sin(longitude)\n",
    "\n",
    "cos_latitude = np.cos(latitude)\n",
    "cos_longitude = np.cos(longitude)\n",
    "\n",
    "data_examples = np.delete(data_examples, unneeded_info, 1)\n",
    "data_attributes = np.delete(data_attributes, unneeded_info)\n",
    "\n",
    "data_attributes = np.array(('Years', 'Sin_latitude', 'Sin_longitude', 'Cos_latitude', 'Cos_longitude', *data_attributes))\n",
    "data_examples = np.column_stack((years, sin_latitude, sin_longitude, cos_latitude, cos_longitude, data_examples))\n",
    "\n",
    "coder = LabelEncoder()\n",
    "\n",
    "data_examples[:, 5] = coder.fit_transform(data_examples[:, 5])\n",
    "data_examples[:, 7] = coder.fit_transform(data_examples[:, 7])\n",
    "data_examples[:, 8] = coder.fit_transform(data_examples[:, 8])\n",
    "data_examples[:, 9] = coder.fit_transform(data_examples[:, 9])\n",
    "data_examples[:, 10] = coder.fit_transform(data_examples[:, 10])\n",
    "data_examples[:, 11] = coder.fit_transform(data_examples[:, 11])\n",
    "data_examples[:, 12] = coder.fit_transform(data_examples[:, 12])\n",
    "\n",
    "print('Cleaned')\n",
    "print('data_examples shape:', data_examples.shape)\n",
    "print('data_attributes shape:', data_attributes.shape, end='\\n\\n')\n",
    "print(*enumerate(data_attributes), sep='\\n')"
   ]
  },
  {
   "cell_type": "code",
   "execution_count": 14,
   "metadata": {},
   "outputs": [
    {
     "data": {
      "text/plain": [
       "0.1455959475973734"
      ]
     },
     "execution_count": 14,
     "metadata": {},
     "output_type": "execute_result"
    }
   ],
   "source": [
    "model = XGBRegressor(nthread=-1)\n",
    "model.fit(X=data_examples, y=target)\n",
    "\n",
    "mean_squared_error(target, model.predict(data_examples))"
   ]
  },
  {
   "cell_type": "code",
   "execution_count": 13,
   "metadata": {},
   "outputs": [],
   "source": [
    "######################################\n",
    "#   Here error was almost the same   #\n",
    "######################################\n",
    "\n",
    "# parameters = {'gamma':[i/10.0 for i in range(3,6)], \n",
    "#               'subsample':[i/10.0 for i in range(6,9)],\n",
    "#               'colsample_bytree':[i/10.0 for i in range(6,9)], \n",
    "#               'max_depth': [2,3,4]}\n",
    "\n",
    "# clf = GridSearchCV(model, parameters)\n",
    "# clf.fit(X=data_examples, y=target)\n",
    "\n",
    "# mean_squared_error(target, clf.best_estimator_.predict(data_examples))"
   ]
  }
 ],
 "metadata": {
  "kernelspec": {
   "display_name": "Python 3",
   "language": "python",
   "name": "python3"
  },
  "language_info": {
   "codemirror_mode": {
    "name": "ipython",
    "version": 3
   },
   "file_extension": ".py",
   "mimetype": "text/x-python",
   "name": "python",
   "nbconvert_exporter": "python",
   "pygments_lexer": "ipython3",
   "version": "3.6.4"
  }
 },
 "nbformat": 4,
 "nbformat_minor": 2
}
