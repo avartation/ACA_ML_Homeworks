{
 "cells": [
  {
   "cell_type": "code",
   "execution_count": 8,
   "metadata": {},
   "outputs": [],
   "source": [
    "import numpy as np\n",
    "import pandas as pd"
   ]
  },
  {
   "cell_type": "code",
   "execution_count": 23,
   "metadata": {},
   "outputs": [
    {
     "name": "stdout",
     "output_type": "stream",
     "text": [
      "Original\n",
      "data_examples shape: (23412, 21)\n",
      "Cleaned\n",
      "data_examples shape: (23409, 299)\n"
     ]
    }
   ],
   "source": [
    "###########################################\n",
    "#             Preparing Data              #\n",
    "###########################################\n",
    "\n",
    "file = open('C:/Users/artur/Downloads/database.csv')\n",
    "original_file = file.read()\n",
    "\n",
    "rowsplit_data = original_file.splitlines()\n",
    "data_examples = np.array([rows.split(',') for rows in rowsplit_data])\n",
    "data_examples = data_examples[1:]\n",
    "\n",
    "print('Original')\n",
    "print('data_examples shape:', data_examples.shape)\n",
    "\n",
    "\n",
    "##################################\n",
    "#     Forming 'year' feature     #\n",
    "##################################\n",
    "\n",
    "def isdigit(s):\n",
    "    try: \n",
    "        int(s)\n",
    "        return True\n",
    "    except ValueError:\n",
    "        return False\n",
    "\n",
    "years = np.array([year[6:] for year in data_examples[:, 0]])\n",
    "indicis = []\n",
    "for i, year in enumerate(years):\n",
    "    if not isdigit(year):\n",
    "        indicis.append(i)\n",
    "\n",
    "data_examples = np.delete(data_examples, indicis, 0)\n",
    "years = np.delete(years, indicis, 0)\n",
    "\n",
    "years = np.array([int(year) for year in years])\n",
    "\n",
    "\n",
    "##################################\n",
    "#         Clearing Data          #\n",
    "##################################\n",
    "\n",
    "unneeded_info = [0, 1, 2, 3, 6, 7, 8, 10, 11, 12, 13, 14, 16]\n",
    "\n",
    "target = np.array([float(d) for d in data_examples[:, 8]])\n",
    "\n",
    "latitude = np.array([float(lat) for lat in data_examples[:, 2]])\n",
    "longitude = np.array([float(lon) for lon in data_examples[:, 3]])\n",
    "\n",
    "sin_latitude = np.sin(latitude)\n",
    "sin_longitude = np.sin(longitude)\n",
    "\n",
    "cos_latitude = np.cos(latitude)\n",
    "cos_longitude = np.cos(longitude)\n",
    "\n",
    "data_examples = np.delete(data_examples, unneeded_info, 1)\n",
    "data_examples = np.column_stack((years, sin_latitude, sin_longitude, cos_latitude, cos_longitude, data_examples))\n",
    "\n",
    "\n",
    "#################################\n",
    "#       Using pandas here       #\n",
    "#################################\n",
    "\n",
    "data_examples_5 = pd.get_dummies(data_examples[:, 5]).values\n",
    "data_examples_7 = pd.get_dummies(data_examples[:, 7]).values\n",
    "data_examples_8 = pd.get_dummies(data_examples[:, 8]).values\n",
    "data_examples_9 = pd.get_dummies(data_examples[:, 9]).values\n",
    "data_examples_10 = pd.get_dummies(data_examples[:, 10]).values\n",
    "data_examples_11 = pd.get_dummies(data_examples[:, 11]).values\n",
    "data_examples_12 = pd.get_dummies(data_examples[:, 12]).values\n",
    "\n",
    "unneeded_info = [5, 7, 8, 9, 10, 11, 12]\n",
    "data_examples = np.delete(data_examples, unneeded_info, 1)\n",
    "data_examples = np.column_stack((data_examples,\n",
    "                                 data_examples_5, \n",
    "                                 data_examples_7, \n",
    "                                 data_examples_8, \n",
    "                                 data_examples_9, \n",
    "                                 data_examples_10, \n",
    "                                 data_examples_11, \n",
    "                                 data_examples_12))\n",
    "\n",
    "print('Cleaned')\n",
    "print('data_examples shape:', data_examples.shape)"
   ]
  },
  {
   "cell_type": "code",
   "execution_count": 26,
   "metadata": {},
   "outputs": [],
   "source": [
    "from xgboost import XGBRegressor\n",
    "from sklearn.metrics import mean_squared_error"
   ]
  },
  {
   "cell_type": "code",
   "execution_count": 27,
   "metadata": {},
   "outputs": [
    {
     "data": {
      "text/plain": [
       "0.14814239781294256"
      ]
     },
     "execution_count": 27,
     "metadata": {},
     "output_type": "execute_result"
    }
   ],
   "source": [
    "model = XGBRegressor(nthread=-1)\n",
    "model.fit(X=data_examples, y=target)\n",
    "\n",
    "mean_squared_error(target, model.predict(data_examples))"
   ]
  }
 ],
 "metadata": {
  "kernelspec": {
   "display_name": "Python 3",
   "language": "python",
   "name": "python3"
  },
  "language_info": {
   "codemirror_mode": {
    "name": "ipython",
    "version": 3
   },
   "file_extension": ".py",
   "mimetype": "text/x-python",
   "name": "python",
   "nbconvert_exporter": "python",
   "pygments_lexer": "ipython3",
   "version": "3.6.4"
  }
 },
 "nbformat": 4,
 "nbformat_minor": 2
}
